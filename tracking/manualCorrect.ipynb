{
 "cells": [
  {
   "cell_type": "code",
   "execution_count": 1,
   "metadata": {},
   "outputs": [],
   "source": [
    "import os, sys, glob\n",
    "import csv\n",
    "import cv2\n",
    "import numpy as np\n",
    "import glob\n",
    "\n",
    "np.set_printoptions(suppress=True)\n"
   ]
  },
  {
   "cell_type": "code",
   "execution_count": 11,
   "metadata": {},
   "outputs": [],
   "source": [
    "data_dir =  '/home/staff1/ctorney/data/horses/departures/'\n",
    "data_dir =  '/home/ctorney/euclid/data/horses/departures/'\n",
    "escaped=False\n",
    "width = 1920\n",
    "height = 1080\n",
    "fps = 30\n",
    "gap = 240\n",
    "display = True\n",
    "\n",
    "filelist = glob.glob(data_dir + \"*.mp4\")\n",
    "# track list format -> time, track_id, xmin, xmax, ymin, ymax, horse_id\n",
    "for input_file in filelist:\n",
    "    direct, ext = os.path.split(input_file)\n",
    "    noext, _ = os.path.splitext(ext)\n",
    "    data_file = data_dir + '/tracks/' +  noext + '_POS.txt'\n",
    "    out_data_file = data_dir + '/tracks/' +  noext + '_POS_M.txt'\n",
    "    \n",
    "    if os.path.isfile(out_data_file):\n",
    "        continue\n",
    "    video_file = data_dir + '/tracks/' +  noext + '_TR.avi'\n",
    "    \n",
    "    cap = cv2.VideoCapture(video_file)\n",
    "    fCount = cap.get(cv2.CAP_PROP_FRAME_COUNT)\n",
    "    tracks = np.genfromtxt(data_file,delimiter=\",\",dtype='float')\n",
    "    z = np.zeros((len(tracks),1), dtype='float')\n",
    "    z[:,0] = tracks[:,1]\n",
    "    tracks= np.append(tracks, z, axis=1)\n",
    "    trackids = np.unique(tracks[:,1]).tolist()\n",
    "    alltrackids = np.unique(tracks[:,1])\n",
    "    for t in alltrackids:\n",
    "        thisTrack = tracks[tracks[:,1]==t]\n",
    "        if len(thisTrack)<10:\n",
    "            tracks = tracks[tracks[:,1]!=t]\n",
    "            trackids.remove(t)\n",
    "        elif ((thisTrack[-1,0]-thisTrack[0,0])<5*fps):\n",
    "            tracks = tracks[tracks[:,1]!=t]\n",
    "            trackids.remove(t)\n",
    "    newid=0\n",
    "    start_times = np.zeros(len(trackids))\n",
    "    stop_times = np.zeros(len(trackids))\n",
    "    for t in range(len(trackids)):\n",
    "        start_times[t] = np.min(tracks[tracks[:,1]==trackids[t],0])\n",
    "        stop_times[t] = np.max(tracks[tracks[:,1]==trackids[t],0])\n",
    "    \n",
    "    current_track=0\n",
    "    for t in range(len(trackids)):\n",
    "        current_track = tracks[tracks[:,1]==trackids[t],6][0]\n",
    "        diffs = np.abs(stop_times[t]-start_times)\n",
    "        for t2 in range(len(trackids)):\n",
    "            if t==t2:\n",
    "                continue\n",
    "            if diffs[t2]<gap:\n",
    "                \n",
    "                frName = 'is ' + str(trackids[t2]) + ' the same as ' + str(trackids[t]) + ' ? y or n'\n",
    "                cv2.destroyAllWindows()\n",
    "                cv2.namedWindow(frName, flags =  cv2.WINDOW_NORMAL)\n",
    "                cv2.resizeWindow(frName, 1920,1080)\n",
    "                startFrame = max(0,stop_times[t]-150)\n",
    "                stopFrame = min(fCount-1, stop_times[t]+150)\n",
    "                cap.set(cv2.CAP_PROP_POS_FRAMES,startFrame)\n",
    "                \n",
    "                \n",
    "                yes=False\n",
    "                while True:\n",
    "                    thisFrame = cap.get(cv2.CAP_PROP_POS_FRAMES)\n",
    "                    if thisFrame>stopFrame:\n",
    "                        cap.set(cv2.CAP_PROP_POS_FRAMES,startFrame)\n",
    "                    _, frame = cap.read()\n",
    "                    cv2.imshow(frName,frame)\n",
    "                    k = cv2.waitKey(10)\n",
    "\n",
    "                    if k==ord('y'):\n",
    "                        yes=True\n",
    "                        break\n",
    "                    if k==ord('n'):\n",
    "                        break\n",
    "                    if k==27:    # Esc key to stop\n",
    "                        escaped=True\n",
    "                        break \n",
    "                    \n",
    "                if yes:\n",
    "                    tracks[tracks[:,1]==trackids[t2],6]=current_track\n",
    "                    break\n",
    "                if escaped:\n",
    "                    break\n",
    "        \n",
    "        if escaped:\n",
    "            break\n",
    "    alltrackids = np.unique(tracks[:,6])\n",
    "    current_track=0\n",
    "    for t in alltrackids:\n",
    "        tracks[tracks[:,6]==t]=current_track\n",
    "        current_track+=1\n",
    "        \n",
    "    if escaped:\n",
    "        cv2.destroyAllWindows()\n",
    "        break\n",
    "    \n",
    "    \n",
    "    with open(out_data_file, \"w\") as output:\n",
    "        writer = csv.writer(output, lineterminator='\\n')\n",
    "        writer.writerows(tracks)\n"
   ]
  },
  {
   "cell_type": "code",
   "execution_count": 7,
   "metadata": {},
   "outputs": [
    {
     "name": "stdout",
     "output_type": "stream",
     "text": [
      "/home/ctorney/euclid/data/horses/departures/180708-4m2.mp4\n"
     ]
    }
   ],
   "source": [
    "for input_file in filelist:\n",
    "    print(input_file)\n",
    "    direct, ext = os.path.split(input_file)\n",
    "    noext, _ = os.path.splitext(ext)\n",
    "    data_file = data_dir + '/tracks/' +  noext + '_POS.txt'\n",
    "    out_data_file = data_dir + '/tracks/' +  noext + '_POS_M.txt'\n",
    "    \n",
    "    #if os.path.isfile(out_data_file):\n",
    "    break"
   ]
  },
  {
   "cell_type": "code",
   "execution_count": 9,
   "metadata": {},
   "outputs": [
    {
     "data": {
      "text/plain": [
       "True"
      ]
     },
     "execution_count": 9,
     "metadata": {},
     "output_type": "execute_result"
    }
   ],
   "source": [
    "os.path.isfile(out_data_file)"
   ]
  },
  {
   "cell_type": "code",
   "execution_count": 49,
   "metadata": {},
   "outputs": [],
   "source": [
    "tracks = np.genfromtxt(data_file,delimiter=\",\",dtype='float')\n",
    "z = np.zeros((len(tracks),1), dtype='float')\n",
    "z[:,0] = tracks[:,1]\n",
    "tracks= np.append(tracks, z, axis=1)"
   ]
  },
  {
   "cell_type": "code",
   "execution_count": 73,
   "metadata": {},
   "outputs": [],
   "source": [
    "tracks = np.genfromtxt(data_file,delimiter=\",\",dtype='float')"
   ]
  },
  {
   "cell_type": "code",
   "execution_count": 78,
   "metadata": {},
   "outputs": [
    {
     "data": {
      "text/plain": [
       "'/home/ctorney/euclid/data/horses/departures//tracks/180708-4m2_TR.avi'"
      ]
     },
     "execution_count": 78,
     "metadata": {},
     "output_type": "execute_result"
    }
   ],
   "source": [
    "video_file"
   ]
  },
  {
   "cell_type": "code",
   "execution_count": null,
   "metadata": {},
   "outputs": [],
   "source": [
    "thisTrack[-1,0]-thisTrack[0,0]"
   ]
  },
  {
   "cell_type": "code",
   "execution_count": 26,
   "metadata": {},
   "outputs": [
    {
     "data": {
      "text/plain": [
       "2"
      ]
     },
     "execution_count": 26,
     "metadata": {},
     "output_type": "execute_result"
    }
   ],
   "source": [
    "len(thisTrack)"
   ]
  },
  {
   "cell_type": "code",
   "execution_count": 29,
   "metadata": {},
   "outputs": [],
   "source": [
    "trackids.remove(20)"
   ]
  },
  {
   "cell_type": "code",
   "execution_count": null,
   "metadata": {},
   "outputs": [],
   "source": []
  }
 ],
 "metadata": {
  "kernelspec": {
   "display_name": "Python 3",
   "language": "python",
   "name": "python3"
  },
  "language_info": {
   "codemirror_mode": {
    "name": "ipython",
    "version": 3
   },
   "file_extension": ".py",
   "mimetype": "text/x-python",
   "name": "python",
   "nbconvert_exporter": "python",
   "pygments_lexer": "ipython3",
   "version": "3.6.6"
  }
 },
 "nbformat": 4,
 "nbformat_minor": 2
}
